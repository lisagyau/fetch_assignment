{
 "cells": [
  {
   "cell_type": "code",
   "execution_count": 1,
   "id": "1404bd8c",
   "metadata": {},
   "outputs": [],
   "source": [
    "import numpy as np\n",
    "import pandas as pd\n",
    "import matplotlib.pyplot as plt\n",
    "import pandasql as ps"
   ]
  },
  {
   "cell_type": "code",
   "execution_count": null,
   "id": "5cbcef30",
   "metadata": {},
   "outputs": [],
   "source": []
  },
  {
   "cell_type": "code",
   "execution_count": 2,
   "id": "cf3291fa",
   "metadata": {},
   "outputs": [],
   "source": [
    "#read in csvs as dataframes#\n",
    "products = pd.read_csv('PRODUCTS_TAKEHOME.csv')\n",
    "transactions = pd.read_csv('TRANSACTION_TAKEHOME.csv')\n",
    "users = pd.read_csv('USER_TAKEHOME.csv')"
   ]
  },
  {
   "cell_type": "code",
   "execution_count": 3,
   "id": "ac7f06e9",
   "metadata": {},
   "outputs": [
    {
     "data": {
      "text/html": [
       "<div>\n",
       "<style scoped>\n",
       "    .dataframe tbody tr th:only-of-type {\n",
       "        vertical-align: middle;\n",
       "    }\n",
       "\n",
       "    .dataframe tbody tr th {\n",
       "        vertical-align: top;\n",
       "    }\n",
       "\n",
       "    .dataframe thead th {\n",
       "        text-align: right;\n",
       "    }\n",
       "</style>\n",
       "<table border=\"1\" class=\"dataframe\">\n",
       "  <thead>\n",
       "    <tr style=\"text-align: right;\">\n",
       "      <th></th>\n",
       "      <th>CATEGORY_1</th>\n",
       "      <th>CATEGORY_2</th>\n",
       "      <th>CATEGORY_3</th>\n",
       "      <th>CATEGORY_4</th>\n",
       "      <th>MANUFACTURER</th>\n",
       "      <th>BRAND</th>\n",
       "      <th>BARCODE</th>\n",
       "    </tr>\n",
       "  </thead>\n",
       "  <tbody>\n",
       "    <tr>\n",
       "      <th>0</th>\n",
       "      <td>Health &amp; Wellness</td>\n",
       "      <td>Sexual Health</td>\n",
       "      <td>Conductivity Gels &amp; Lotions</td>\n",
       "      <td>NaN</td>\n",
       "      <td>NaN</td>\n",
       "      <td>NaN</td>\n",
       "      <td>7.964944e+11</td>\n",
       "    </tr>\n",
       "    <tr>\n",
       "      <th>1</th>\n",
       "      <td>Snacks</td>\n",
       "      <td>Puffed Snacks</td>\n",
       "      <td>Cheese Curls &amp; Puffs</td>\n",
       "      <td>NaN</td>\n",
       "      <td>NaN</td>\n",
       "      <td>NaN</td>\n",
       "      <td>2.327801e+10</td>\n",
       "    </tr>\n",
       "    <tr>\n",
       "      <th>2</th>\n",
       "      <td>Health &amp; Wellness</td>\n",
       "      <td>Hair Care</td>\n",
       "      <td>Hair Care Accessories</td>\n",
       "      <td>NaN</td>\n",
       "      <td>PLACEHOLDER MANUFACTURER</td>\n",
       "      <td>ELECSOP</td>\n",
       "      <td>4.618178e+11</td>\n",
       "    </tr>\n",
       "    <tr>\n",
       "      <th>3</th>\n",
       "      <td>Health &amp; Wellness</td>\n",
       "      <td>Oral Care</td>\n",
       "      <td>Toothpaste</td>\n",
       "      <td>NaN</td>\n",
       "      <td>COLGATE-PALMOLIVE</td>\n",
       "      <td>COLGATE</td>\n",
       "      <td>3.500047e+10</td>\n",
       "    </tr>\n",
       "    <tr>\n",
       "      <th>4</th>\n",
       "      <td>Health &amp; Wellness</td>\n",
       "      <td>Medicines &amp; Treatments</td>\n",
       "      <td>Essential Oils</td>\n",
       "      <td>NaN</td>\n",
       "      <td>MAPLE HOLISTICS AND HONEYDEW PRODUCTS INTERCHA...</td>\n",
       "      <td>MAPLE HOLISTICS</td>\n",
       "      <td>8.068109e+11</td>\n",
       "    </tr>\n",
       "  </tbody>\n",
       "</table>\n",
       "</div>"
      ],
      "text/plain": [
       "          CATEGORY_1              CATEGORY_2                   CATEGORY_3  \\\n",
       "0  Health & Wellness           Sexual Health  Conductivity Gels & Lotions   \n",
       "1             Snacks           Puffed Snacks         Cheese Curls & Puffs   \n",
       "2  Health & Wellness               Hair Care        Hair Care Accessories   \n",
       "3  Health & Wellness               Oral Care                   Toothpaste   \n",
       "4  Health & Wellness  Medicines & Treatments               Essential Oils   \n",
       "\n",
       "  CATEGORY_4                                       MANUFACTURER  \\\n",
       "0        NaN                                                NaN   \n",
       "1        NaN                                                NaN   \n",
       "2        NaN                           PLACEHOLDER MANUFACTURER   \n",
       "3        NaN                                  COLGATE-PALMOLIVE   \n",
       "4        NaN  MAPLE HOLISTICS AND HONEYDEW PRODUCTS INTERCHA...   \n",
       "\n",
       "             BRAND       BARCODE  \n",
       "0              NaN  7.964944e+11  \n",
       "1              NaN  2.327801e+10  \n",
       "2          ELECSOP  4.618178e+11  \n",
       "3          COLGATE  3.500047e+10  \n",
       "4  MAPLE HOLISTICS  8.068109e+11  "
      ]
     },
     "execution_count": 3,
     "metadata": {},
     "output_type": "execute_result"
    }
   ],
   "source": [
    "#taking a look at top 5 rows#\n",
    "products.head(5)"
   ]
  },
  {
   "cell_type": "code",
   "execution_count": 4,
   "id": "71792029",
   "metadata": {},
   "outputs": [
    {
     "data": {
      "text/plain": [
       "CATEGORY_1          28\n",
       "CATEGORY_2         122\n",
       "CATEGORY_3         345\n",
       "CATEGORY_4         128\n",
       "MANUFACTURER      4355\n",
       "BRAND             8123\n",
       "BARCODE         841343\n",
       "dtype: int64"
      ]
     },
     "execution_count": 4,
     "metadata": {},
     "output_type": "execute_result"
    }
   ],
   "source": [
    "#unique values of each column#\n",
    "products.nunique(dropna=False)"
   ]
  },
  {
   "cell_type": "code",
   "execution_count": 5,
   "id": "c0ef0f01",
   "metadata": {},
   "outputs": [
    {
     "name": "stdout",
     "output_type": "stream",
     "text": [
      "<class 'pandas.core.frame.DataFrame'>\n",
      "RangeIndex: 845552 entries, 0 to 845551\n",
      "Data columns (total 7 columns):\n",
      " #   Column        Non-Null Count   Dtype  \n",
      "---  ------        --------------   -----  \n",
      " 0   CATEGORY_1    845441 non-null  object \n",
      " 1   CATEGORY_2    844128 non-null  object \n",
      " 2   CATEGORY_3    784986 non-null  object \n",
      " 3   CATEGORY_4    67459 non-null   object \n",
      " 4   MANUFACTURER  619078 non-null  object \n",
      " 5   BRAND         619080 non-null  object \n",
      " 6   BARCODE       841527 non-null  float64\n",
      "dtypes: float64(1), object(6)\n",
      "memory usage: 45.2+ MB\n"
     ]
    }
   ],
   "source": [
    "#data types#\n",
    "products.info()"
   ]
  },
  {
   "cell_type": "code",
   "execution_count": 6,
   "id": "35469f6e",
   "metadata": {},
   "outputs": [
    {
     "data": {
      "text/plain": [
       "Index(['CATEGORY_1', 'CATEGORY_2', 'CATEGORY_3', 'CATEGORY_4', 'MANUFACTURER',\n",
       "       'BRAND', 'BARCODE'],\n",
       "      dtype='object')"
      ]
     },
     "execution_count": 6,
     "metadata": {},
     "output_type": "execute_result"
    }
   ],
   "source": [
    "#see which (other) columns are null#\n",
    "products.columns[products.isna().any()]"
   ]
  },
  {
   "cell_type": "code",
   "execution_count": 7,
   "id": "99119e4a",
   "metadata": {},
   "outputs": [
    {
     "data": {
      "text/html": [
       "<div>\n",
       "<style scoped>\n",
       "    .dataframe tbody tr th:only-of-type {\n",
       "        vertical-align: middle;\n",
       "    }\n",
       "\n",
       "    .dataframe tbody tr th {\n",
       "        vertical-align: top;\n",
       "    }\n",
       "\n",
       "    .dataframe thead th {\n",
       "        text-align: right;\n",
       "    }\n",
       "</style>\n",
       "<table border=\"1\" class=\"dataframe\">\n",
       "  <thead>\n",
       "    <tr style=\"text-align: right;\">\n",
       "      <th></th>\n",
       "      <th>RECEIPT_ID</th>\n",
       "      <th>PURCHASE_DATE</th>\n",
       "      <th>SCAN_DATE</th>\n",
       "      <th>STORE_NAME</th>\n",
       "      <th>USER_ID</th>\n",
       "      <th>BARCODE</th>\n",
       "      <th>FINAL_QUANTITY</th>\n",
       "      <th>FINAL_SALE</th>\n",
       "    </tr>\n",
       "  </thead>\n",
       "  <tbody>\n",
       "    <tr>\n",
       "      <th>0</th>\n",
       "      <td>0000d256-4041-4a3e-adc4-5623fb6e0c99</td>\n",
       "      <td>2024-08-21</td>\n",
       "      <td>2024-08-21 14:19:06.539 Z</td>\n",
       "      <td>WALMART</td>\n",
       "      <td>63b73a7f3d310dceeabd4758</td>\n",
       "      <td>1.530001e+10</td>\n",
       "      <td>1.00</td>\n",
       "      <td></td>\n",
       "    </tr>\n",
       "    <tr>\n",
       "      <th>1</th>\n",
       "      <td>0001455d-7a92-4a7b-a1d2-c747af1c8fd3</td>\n",
       "      <td>2024-07-20</td>\n",
       "      <td>2024-07-20 09:50:24.206 Z</td>\n",
       "      <td>ALDI</td>\n",
       "      <td>62c08877baa38d1a1f6c211a</td>\n",
       "      <td>NaN</td>\n",
       "      <td>zero</td>\n",
       "      <td>1.49</td>\n",
       "    </tr>\n",
       "    <tr>\n",
       "      <th>2</th>\n",
       "      <td>00017e0a-7851-42fb-bfab-0baa96e23586</td>\n",
       "      <td>2024-08-18</td>\n",
       "      <td>2024-08-19 15:38:56.813 Z</td>\n",
       "      <td>WALMART</td>\n",
       "      <td>60842f207ac8b7729e472020</td>\n",
       "      <td>7.874223e+10</td>\n",
       "      <td>1.00</td>\n",
       "      <td></td>\n",
       "    </tr>\n",
       "    <tr>\n",
       "      <th>3</th>\n",
       "      <td>000239aa-3478-453d-801e-66a82e39c8af</td>\n",
       "      <td>2024-06-18</td>\n",
       "      <td>2024-06-19 11:03:37.468 Z</td>\n",
       "      <td>FOOD LION</td>\n",
       "      <td>63fcd7cea4f8442c3386b589</td>\n",
       "      <td>7.833997e+11</td>\n",
       "      <td>zero</td>\n",
       "      <td>3.49</td>\n",
       "    </tr>\n",
       "    <tr>\n",
       "      <th>4</th>\n",
       "      <td>00026b4c-dfe8-49dd-b026-4c2f0fd5c6a1</td>\n",
       "      <td>2024-07-04</td>\n",
       "      <td>2024-07-05 15:56:43.549 Z</td>\n",
       "      <td>RANDALLS</td>\n",
       "      <td>6193231ae9b3d75037b0f928</td>\n",
       "      <td>4.790050e+10</td>\n",
       "      <td>1.00</td>\n",
       "      <td></td>\n",
       "    </tr>\n",
       "  </tbody>\n",
       "</table>\n",
       "</div>"
      ],
      "text/plain": [
       "                             RECEIPT_ID PURCHASE_DATE  \\\n",
       "0  0000d256-4041-4a3e-adc4-5623fb6e0c99    2024-08-21   \n",
       "1  0001455d-7a92-4a7b-a1d2-c747af1c8fd3    2024-07-20   \n",
       "2  00017e0a-7851-42fb-bfab-0baa96e23586    2024-08-18   \n",
       "3  000239aa-3478-453d-801e-66a82e39c8af    2024-06-18   \n",
       "4  00026b4c-dfe8-49dd-b026-4c2f0fd5c6a1    2024-07-04   \n",
       "\n",
       "                   SCAN_DATE STORE_NAME                   USER_ID  \\\n",
       "0  2024-08-21 14:19:06.539 Z    WALMART  63b73a7f3d310dceeabd4758   \n",
       "1  2024-07-20 09:50:24.206 Z       ALDI  62c08877baa38d1a1f6c211a   \n",
       "2  2024-08-19 15:38:56.813 Z    WALMART  60842f207ac8b7729e472020   \n",
       "3  2024-06-19 11:03:37.468 Z  FOOD LION  63fcd7cea4f8442c3386b589   \n",
       "4  2024-07-05 15:56:43.549 Z   RANDALLS  6193231ae9b3d75037b0f928   \n",
       "\n",
       "        BARCODE FINAL_QUANTITY FINAL_SALE  \n",
       "0  1.530001e+10           1.00             \n",
       "1           NaN           zero       1.49  \n",
       "2  7.874223e+10           1.00             \n",
       "3  7.833997e+11           zero       3.49  \n",
       "4  4.790050e+10           1.00             "
      ]
     },
     "execution_count": 7,
     "metadata": {},
     "output_type": "execute_result"
    }
   ],
   "source": [
    "transactions.head(5)"
   ]
  },
  {
   "cell_type": "code",
   "execution_count": 8,
   "id": "5eba1ab3",
   "metadata": {},
   "outputs": [],
   "source": [
    "#convert date columns to datetime data type\n",
    "transactions['SCAN_DATE'] = pd.to_datetime(transactions['SCAN_DATE'])\n",
    "transactions['PURCHASE_DATE'] = pd.to_datetime(transactions['PURCHASE_DATE'])"
   ]
  },
  {
   "cell_type": "code",
   "execution_count": 9,
   "id": "1f5a9f83",
   "metadata": {},
   "outputs": [
    {
     "data": {
      "text/plain": [
       "count    50000.000000\n",
       "mean         0.814427\n",
       "std          1.841794\n",
       "min          0.000000\n",
       "25%          0.007500\n",
       "50%          1.000000\n",
       "75%          1.000000\n",
       "max        276.000000\n",
       "Name: final_quantity_float, dtype: float64"
      ]
     },
     "execution_count": 9,
     "metadata": {},
     "output_type": "execute_result"
    }
   ],
   "source": [
    "#cleaning up the 'zero' strings to a numerical 0\n",
    "transactions['FINAL_QUANTITY'].replace('zero', 0, inplace=True)\n",
    "#converting the final quantity column into a float column\n",
    "transactions['final_quantity_float'] = transactions['FINAL_QUANTITY'].astype(float)\n",
    "#taking a look at the summary stats of the column\n",
    "transactions['final_quantity_float'].describe()"
   ]
  },
  {
   "cell_type": "code",
   "execution_count": 10,
   "id": "d0b76fc4",
   "metadata": {},
   "outputs": [
    {
     "data": {
      "text/plain": [
       "1.00    35698\n",
       "0.00    12500\n",
       "2.00     1285\n",
       "3.00      184\n",
       "4.00      139\n",
       "        ...  \n",
       "6.22        1\n",
       "1.22        1\n",
       "1.23        1\n",
       "2.57        1\n",
       "2.27        1\n",
       "Name: final_quantity_float, Length: 87, dtype: int64"
      ]
     },
     "execution_count": 10,
     "metadata": {},
     "output_type": "execute_result"
    }
   ],
   "source": [
    "#a look at the different values and counts\n",
    "transactions['final_quantity_float'].value_counts()"
   ]
  },
  {
   "cell_type": "code",
   "execution_count": 11,
   "id": "7b99c3e1",
   "metadata": {},
   "outputs": [
    {
     "data": {
      "image/png": "[encoded data removed]",
      "text/plain": [
       "<Figure size 1440x360 with 1 Axes>"
      ]
     },
     "metadata": {
      "needs_background": "light"
     },
     "output_type": "display_data"
    }
   ],
   "source": [
    "#plotting a histogram to see distribution\n",
    "plt.figure(figsize=(20, 5))\n",
    "transactions.final_quantity_float.hist(bins=500)\n",
    "plt.title('Histogram of Final Quantity')\n",
    "plt.xlabel('Values')\n",
    "plt.ylabel('Frequency')\n",
    "plt.xticks(ticks=[5,10,15,20,25,30,40,50,60,75,100,125,150,175,200,225,280])\n",
    "plt.show()"
   ]
  },
  {
   "cell_type": "code",
   "execution_count": 12,
   "id": "c186e4e5",
   "metadata": {},
   "outputs": [
    {
     "data": {
      "text/plain": [
       "count    37500.000000\n",
       "mean         4.576384\n",
       "std          6.625663\n",
       "min          0.000000\n",
       "25%          1.790000\n",
       "50%          3.000000\n",
       "75%          5.190000\n",
       "max        462.820000\n",
       "Name: final_sale_float, dtype: float64"
      ]
     },
     "execution_count": 12,
     "metadata": {},
     "output_type": "execute_result"
    }
   ],
   "source": [
    "#doing the same for final sale column, except replacing empty strings with NaN\n",
    "transactions['FINAL_SALE'].replace(' ', np.nan, inplace=True)\n",
    "transactions['final_sale_float'] = transactions['FINAL_SALE'].astype(float)\n",
    "transactions['final_sale_float'].describe()"
   ]
  },
  {
   "cell_type": "code",
   "execution_count": 13,
   "id": "5a2b3218",
   "metadata": {},
   "outputs": [
    {
     "data": {
      "image/png": "[encoded data removed]",
      "text/plain": [
       "<Figure size 1440x360 with 1 Axes>"
      ]
     },
     "metadata": {
      "needs_background": "light"
     },
     "output_type": "display_data"
    }
   ],
   "source": [
    "#plotting a histogram to see distribution\n",
    "plt.figure(figsize=(20, 5))\n",
    "transactions.final_sale_float.hist(bins=200)\n",
    "plt.title('Histogram of Final Sale')\n",
    "plt.xlabel('Values')\n",
    "plt.ylabel('Frequency')\n",
    "plt.xticks(ticks=[5,10,20,30,40,50,60,75,100,150,200,250,300,350,400,450])\n",
    "plt.show()"
   ]
  },
  {
   "cell_type": "code",
   "execution_count": 14,
   "id": "c9f34103",
   "metadata": {},
   "outputs": [
    {
     "data": {
      "text/html": [
       "<div>\n",
       "<style scoped>\n",
       "    .dataframe tbody tr th:only-of-type {\n",
       "        vertical-align: middle;\n",
       "    }\n",
       "\n",
       "    .dataframe tbody tr th {\n",
       "        vertical-align: top;\n",
       "    }\n",
       "\n",
       "    .dataframe thead th {\n",
       "        text-align: right;\n",
       "    }\n",
       "</style>\n",
       "<table border=\"1\" class=\"dataframe\">\n",
       "  <thead>\n",
       "    <tr style=\"text-align: right;\">\n",
       "      <th></th>\n",
       "      <th>RECEIPT_ID</th>\n",
       "      <th>PURCHASE_DATE</th>\n",
       "      <th>SCAN_DATE</th>\n",
       "      <th>STORE_NAME</th>\n",
       "      <th>USER_ID</th>\n",
       "      <th>BARCODE</th>\n",
       "      <th>FINAL_QUANTITY</th>\n",
       "      <th>FINAL_SALE</th>\n",
       "      <th>final_quantity_float</th>\n",
       "      <th>final_sale_float</th>\n",
       "    </tr>\n",
       "  </thead>\n",
       "  <tbody>\n",
       "    <tr>\n",
       "      <th>0</th>\n",
       "      <td>0000d256-4041-4a3e-adc4-5623fb6e0c99</td>\n",
       "      <td>2024-08-21</td>\n",
       "      <td>2024-08-21 14:19:06.539000+00:00</td>\n",
       "      <td>WALMART</td>\n",
       "      <td>63b73a7f3d310dceeabd4758</td>\n",
       "      <td>1.530001e+10</td>\n",
       "      <td>1.00</td>\n",
       "      <td>NaN</td>\n",
       "      <td>1.0</td>\n",
       "      <td>NaN</td>\n",
       "    </tr>\n",
       "    <tr>\n",
       "      <th>1</th>\n",
       "      <td>0001455d-7a92-4a7b-a1d2-c747af1c8fd3</td>\n",
       "      <td>2024-07-20</td>\n",
       "      <td>2024-07-20 09:50:24.206000+00:00</td>\n",
       "      <td>ALDI</td>\n",
       "      <td>62c08877baa38d1a1f6c211a</td>\n",
       "      <td>NaN</td>\n",
       "      <td>0</td>\n",
       "      <td>1.49</td>\n",
       "      <td>0.0</td>\n",
       "      <td>1.49</td>\n",
       "    </tr>\n",
       "    <tr>\n",
       "      <th>2</th>\n",
       "      <td>00017e0a-7851-42fb-bfab-0baa96e23586</td>\n",
       "      <td>2024-08-18</td>\n",
       "      <td>2024-08-19 15:38:56.813000+00:00</td>\n",
       "      <td>WALMART</td>\n",
       "      <td>60842f207ac8b7729e472020</td>\n",
       "      <td>7.874223e+10</td>\n",
       "      <td>1.00</td>\n",
       "      <td>NaN</td>\n",
       "      <td>1.0</td>\n",
       "      <td>NaN</td>\n",
       "    </tr>\n",
       "    <tr>\n",
       "      <th>3</th>\n",
       "      <td>000239aa-3478-453d-801e-66a82e39c8af</td>\n",
       "      <td>2024-06-18</td>\n",
       "      <td>2024-06-19 11:03:37.468000+00:00</td>\n",
       "      <td>FOOD LION</td>\n",
       "      <td>63fcd7cea4f8442c3386b589</td>\n",
       "      <td>7.833997e+11</td>\n",
       "      <td>0</td>\n",
       "      <td>3.49</td>\n",
       "      <td>0.0</td>\n",
       "      <td>3.49</td>\n",
       "    </tr>\n",
       "    <tr>\n",
       "      <th>4</th>\n",
       "      <td>00026b4c-dfe8-49dd-b026-4c2f0fd5c6a1</td>\n",
       "      <td>2024-07-04</td>\n",
       "      <td>2024-07-05 15:56:43.549000+00:00</td>\n",
       "      <td>RANDALLS</td>\n",
       "      <td>6193231ae9b3d75037b0f928</td>\n",
       "      <td>4.790050e+10</td>\n",
       "      <td>1.00</td>\n",
       "      <td>NaN</td>\n",
       "      <td>1.0</td>\n",
       "      <td>NaN</td>\n",
       "    </tr>\n",
       "  </tbody>\n",
       "</table>\n",
       "</div>"
      ],
      "text/plain": [
       "                             RECEIPT_ID PURCHASE_DATE  \\\n",
       "0  0000d256-4041-4a3e-adc4-5623fb6e0c99    2024-08-21   \n",
       "1  0001455d-7a92-4a7b-a1d2-c747af1c8fd3    2024-07-20   \n",
       "2  00017e0a-7851-42fb-bfab-0baa96e23586    2024-08-18   \n",
       "3  000239aa-3478-453d-801e-66a82e39c8af    2024-06-18   \n",
       "4  00026b4c-dfe8-49dd-b026-4c2f0fd5c6a1    2024-07-04   \n",
       "\n",
       "                         SCAN_DATE STORE_NAME                   USER_ID  \\\n",
       "0 2024-08-21 14:19:06.539000+00:00    WALMART  63b73a7f3d310dceeabd4758   \n",
       "1 2024-07-20 09:50:24.206000+00:00       ALDI  62c08877baa38d1a1f6c211a   \n",
       "2 2024-08-19 15:38:56.813000+00:00    WALMART  60842f207ac8b7729e472020   \n",
       "3 2024-06-19 11:03:37.468000+00:00  FOOD LION  63fcd7cea4f8442c3386b589   \n",
       "4 2024-07-05 15:56:43.549000+00:00   RANDALLS  6193231ae9b3d75037b0f928   \n",
       "\n",
       "        BARCODE FINAL_QUANTITY FINAL_SALE  final_quantity_float  \\\n",
       "0  1.530001e+10           1.00        NaN                   1.0   \n",
       "1           NaN              0       1.49                   0.0   \n",
       "2  7.874223e+10           1.00        NaN                   1.0   \n",
       "3  7.833997e+11              0       3.49                   0.0   \n",
       "4  4.790050e+10           1.00        NaN                   1.0   \n",
       "\n",
       "   final_sale_float  \n",
       "0               NaN  \n",
       "1              1.49  \n",
       "2               NaN  \n",
       "3              3.49  \n",
       "4               NaN  "
      ]
     },
     "execution_count": 14,
     "metadata": {},
     "output_type": "execute_result"
    }
   ],
   "source": [
    "transactions.head(5)"
   ]
  },
  {
   "cell_type": "code",
   "execution_count": 15,
   "id": "6105b610",
   "metadata": {},
   "outputs": [
    {
     "data": {
      "text/plain": [
       "RECEIPT_ID              24440\n",
       "PURCHASE_DATE              89\n",
       "SCAN_DATE               24440\n",
       "STORE_NAME                954\n",
       "USER_ID                 17694\n",
       "BARCODE                 11028\n",
       "FINAL_QUANTITY             87\n",
       "FINAL_SALE               1435\n",
       "final_quantity_float       87\n",
       "final_sale_float         1435\n",
       "dtype: int64"
      ]
     },
     "execution_count": 15,
     "metadata": {},
     "output_type": "execute_result"
    }
   ],
   "source": [
    "transactions.nunique(dropna=False)"
   ]
  },
  {
   "cell_type": "code",
   "execution_count": 16,
   "id": "550c67b7",
   "metadata": {},
   "outputs": [
    {
     "data": {
      "text/plain": [
       "Index(['BARCODE', 'FINAL_SALE', 'final_sale_float'], dtype='object')"
      ]
     },
     "execution_count": 16,
     "metadata": {},
     "output_type": "execute_result"
    }
   ],
   "source": [
    "transactions.columns[transactions.isna().any()]"
   ]
  },
  {
   "cell_type": "code",
   "execution_count": 17,
   "id": "23eddc95",
   "metadata": {},
   "outputs": [
    {
     "name": "stdout",
     "output_type": "stream",
     "text": [
      "<class 'pandas.core.frame.DataFrame'>\n",
      "RangeIndex: 50000 entries, 0 to 49999\n",
      "Data columns (total 10 columns):\n",
      " #   Column                Non-Null Count  Dtype              \n",
      "---  ------                --------------  -----              \n",
      " 0   RECEIPT_ID            50000 non-null  object             \n",
      " 1   PURCHASE_DATE         50000 non-null  datetime64[ns]     \n",
      " 2   SCAN_DATE             50000 non-null  datetime64[ns, UTC]\n",
      " 3   STORE_NAME            50000 non-null  object             \n",
      " 4   USER_ID               50000 non-null  object             \n",
      " 5   BARCODE               44238 non-null  float64            \n",
      " 6   FINAL_QUANTITY        50000 non-null  object             \n",
      " 7   FINAL_SALE            37500 non-null  object             \n",
      " 8   final_quantity_float  50000 non-null  float64            \n",
      " 9   final_sale_float      37500 non-null  float64            \n",
      "dtypes: datetime64[ns, UTC](1), datetime64[ns](1), float64(3), object(5)\n",
      "memory usage: 3.8+ MB\n"
     ]
    }
   ],
   "source": [
    "transactions.info()"
   ]
  },
  {
   "cell_type": "code",
   "execution_count": 18,
   "id": "c507f036",
   "metadata": {},
   "outputs": [
    {
     "data": {
      "text/html": [
       "<div>\n",
       "<style scoped>\n",
       "    .dataframe tbody tr th:only-of-type {\n",
       "        vertical-align: middle;\n",
       "    }\n",
       "\n",
       "    .dataframe tbody tr th {\n",
       "        vertical-align: top;\n",
       "    }\n",
       "\n",
       "    .dataframe thead th {\n",
       "        text-align: right;\n",
       "    }\n",
       "</style>\n",
       "<table border=\"1\" class=\"dataframe\">\n",
       "  <thead>\n",
       "    <tr style=\"text-align: right;\">\n",
       "      <th></th>\n",
       "      <th>ID</th>\n",
       "      <th>CREATED_DATE</th>\n",
       "      <th>BIRTH_DATE</th>\n",
       "      <th>STATE</th>\n",
       "      <th>LANGUAGE</th>\n",
       "      <th>GENDER</th>\n",
       "    </tr>\n",
       "  </thead>\n",
       "  <tbody>\n",
       "    <tr>\n",
       "      <th>0</th>\n",
       "      <td>5ef3b4f17053ab141787697d</td>\n",
       "      <td>2020-06-24 20:17:54.000 Z</td>\n",
       "      <td>2000-08-11 00:00:00.000 Z</td>\n",
       "      <td>CA</td>\n",
       "      <td>es-419</td>\n",
       "      <td>female</td>\n",
       "    </tr>\n",
       "    <tr>\n",
       "      <th>1</th>\n",
       "      <td>5ff220d383fcfc12622b96bc</td>\n",
       "      <td>2021-01-03 19:53:55.000 Z</td>\n",
       "      <td>2001-09-24 04:00:00.000 Z</td>\n",
       "      <td>PA</td>\n",
       "      <td>en</td>\n",
       "      <td>female</td>\n",
       "    </tr>\n",
       "    <tr>\n",
       "      <th>2</th>\n",
       "      <td>6477950aa55bb77a0e27ee10</td>\n",
       "      <td>2023-05-31 18:42:18.000 Z</td>\n",
       "      <td>1994-10-28 00:00:00.000 Z</td>\n",
       "      <td>FL</td>\n",
       "      <td>es-419</td>\n",
       "      <td>female</td>\n",
       "    </tr>\n",
       "    <tr>\n",
       "      <th>3</th>\n",
       "      <td>658a306e99b40f103b63ccf8</td>\n",
       "      <td>2023-12-26 01:46:22.000 Z</td>\n",
       "      <td>NaN</td>\n",
       "      <td>NC</td>\n",
       "      <td>en</td>\n",
       "      <td>NaN</td>\n",
       "    </tr>\n",
       "    <tr>\n",
       "      <th>4</th>\n",
       "      <td>653cf5d6a225ea102b7ecdc2</td>\n",
       "      <td>2023-10-28 11:51:50.000 Z</td>\n",
       "      <td>1972-03-19 00:00:00.000 Z</td>\n",
       "      <td>PA</td>\n",
       "      <td>en</td>\n",
       "      <td>female</td>\n",
       "    </tr>\n",
       "  </tbody>\n",
       "</table>\n",
       "</div>"
      ],
      "text/plain": [
       "                         ID               CREATED_DATE  \\\n",
       "0  5ef3b4f17053ab141787697d  2020-06-24 20:17:54.000 Z   \n",
       "1  5ff220d383fcfc12622b96bc  2021-01-03 19:53:55.000 Z   \n",
       "2  6477950aa55bb77a0e27ee10  2023-05-31 18:42:18.000 Z   \n",
       "3  658a306e99b40f103b63ccf8  2023-12-26 01:46:22.000 Z   \n",
       "4  653cf5d6a225ea102b7ecdc2  2023-10-28 11:51:50.000 Z   \n",
       "\n",
       "                  BIRTH_DATE STATE LANGUAGE  GENDER  \n",
       "0  2000-08-11 00:00:00.000 Z    CA   es-419  female  \n",
       "1  2001-09-24 04:00:00.000 Z    PA       en  female  \n",
       "2  1994-10-28 00:00:00.000 Z    FL   es-419  female  \n",
       "3                        NaN    NC       en     NaN  \n",
       "4  1972-03-19 00:00:00.000 Z    PA       en  female  "
      ]
     },
     "execution_count": 18,
     "metadata": {},
     "output_type": "execute_result"
    }
   ],
   "source": [
    "users.head(5)"
   ]
  },
  {
   "cell_type": "code",
   "execution_count": 19,
   "id": "5c8e774e",
   "metadata": {},
   "outputs": [
    {
     "data": {
      "text/plain": [
       "ID              100000\n",
       "CREATED_DATE     99942\n",
       "BIRTH_DATE       54722\n",
       "STATE               53\n",
       "LANGUAGE             3\n",
       "GENDER              12\n",
       "dtype: int64"
      ]
     },
     "execution_count": 19,
     "metadata": {},
     "output_type": "execute_result"
    }
   ],
   "source": [
    "users.nunique(dropna=False)"
   ]
  },
  {
   "cell_type": "code",
   "execution_count": 20,
   "id": "e2fc9fe4",
   "metadata": {},
   "outputs": [
    {
     "data": {
      "text/plain": [
       "Index(['BIRTH_DATE', 'STATE', 'LANGUAGE', 'GENDER'], dtype='object')"
      ]
     },
     "execution_count": 20,
     "metadata": {},
     "output_type": "execute_result"
    }
   ],
   "source": [
    "users.columns[users.isna().any()]"
   ]
  },
  {
   "cell_type": "code",
   "execution_count": 21,
   "id": "ea990475",
   "metadata": {},
   "outputs": [
    {
     "name": "stdout",
     "output_type": "stream",
     "text": [
      "<class 'pandas.core.frame.DataFrame'>\n",
      "RangeIndex: 100000 entries, 0 to 99999\n",
      "Data columns (total 6 columns):\n",
      " #   Column        Non-Null Count   Dtype \n",
      "---  ------        --------------   ----- \n",
      " 0   ID            100000 non-null  object\n",
      " 1   CREATED_DATE  100000 non-null  object\n",
      " 2   BIRTH_DATE    96325 non-null   object\n",
      " 3   STATE         95188 non-null   object\n",
      " 4   LANGUAGE      69492 non-null   object\n",
      " 5   GENDER        94108 non-null   object\n",
      "dtypes: object(6)\n",
      "memory usage: 4.6+ MB\n"
     ]
    }
   ],
   "source": [
    "users.info()"
   ]
  },
  {
   "cell_type": "code",
   "execution_count": 23,
   "id": "5e4e2474",
   "metadata": {},
   "outputs": [],
   "source": [
    "#convert date columns to datetime data type\n",
    "users['BIRTH_DATE'] = pd.to_datetime(users['BIRTH_DATE'])\n",
    "users['CREATED_DATE'] = pd.to_datetime(users['CREATED_DATE'])"
   ]
  },
  {
   "cell_type": "code",
   "execution_count": 24,
   "id": "8299d0e8",
   "metadata": {},
   "outputs": [
    {
     "data": {
      "text/html": [
       "<div>\n",
       "<style scoped>\n",
       "    .dataframe tbody tr th:only-of-type {\n",
       "        vertical-align: middle;\n",
       "    }\n",
       "\n",
       "    .dataframe tbody tr th {\n",
       "        vertical-align: top;\n",
       "    }\n",
       "\n",
       "    .dataframe thead th {\n",
       "        text-align: right;\n",
       "    }\n",
       "</style>\n",
       "<table border=\"1\" class=\"dataframe\">\n",
       "  <thead>\n",
       "    <tr style=\"text-align: right;\">\n",
       "      <th></th>\n",
       "      <th>ID</th>\n",
       "      <th>CREATED_DATE</th>\n",
       "      <th>BIRTH_DATE</th>\n",
       "      <th>STATE</th>\n",
       "      <th>LANGUAGE</th>\n",
       "      <th>GENDER</th>\n",
       "    </tr>\n",
       "  </thead>\n",
       "  <tbody>\n",
       "    <tr>\n",
       "      <th>0</th>\n",
       "      <td>5ef3b4f17053ab141787697d</td>\n",
       "      <td>2020-06-24 20:17:54+00:00</td>\n",
       "      <td>2000-08-11 00:00:00+00:00</td>\n",
       "      <td>CA</td>\n",
       "      <td>es-419</td>\n",
       "      <td>female</td>\n",
       "    </tr>\n",
       "    <tr>\n",
       "      <th>1</th>\n",
       "      <td>5ff220d383fcfc12622b96bc</td>\n",
       "      <td>2021-01-03 19:53:55+00:00</td>\n",
       "      <td>2001-09-24 04:00:00+00:00</td>\n",
       "      <td>PA</td>\n",
       "      <td>en</td>\n",
       "      <td>female</td>\n",
       "    </tr>\n",
       "    <tr>\n",
       "      <th>2</th>\n",
       "      <td>6477950aa55bb77a0e27ee10</td>\n",
       "      <td>2023-05-31 18:42:18+00:00</td>\n",
       "      <td>1994-10-28 00:00:00+00:00</td>\n",
       "      <td>FL</td>\n",
       "      <td>es-419</td>\n",
       "      <td>female</td>\n",
       "    </tr>\n",
       "    <tr>\n",
       "      <th>3</th>\n",
       "      <td>658a306e99b40f103b63ccf8</td>\n",
       "      <td>2023-12-26 01:46:22+00:00</td>\n",
       "      <td>NaT</td>\n",
       "      <td>NC</td>\n",
       "      <td>en</td>\n",
       "      <td>NaN</td>\n",
       "    </tr>\n",
       "    <tr>\n",
       "      <th>4</th>\n",
       "      <td>653cf5d6a225ea102b7ecdc2</td>\n",
       "      <td>2023-10-28 11:51:50+00:00</td>\n",
       "      <td>1972-03-19 00:00:00+00:00</td>\n",
       "      <td>PA</td>\n",
       "      <td>en</td>\n",
       "      <td>female</td>\n",
       "    </tr>\n",
       "  </tbody>\n",
       "</table>\n",
       "</div>"
      ],
      "text/plain": [
       "                         ID              CREATED_DATE  \\\n",
       "0  5ef3b4f17053ab141787697d 2020-06-24 20:17:54+00:00   \n",
       "1  5ff220d383fcfc12622b96bc 2021-01-03 19:53:55+00:00   \n",
       "2  6477950aa55bb77a0e27ee10 2023-05-31 18:42:18+00:00   \n",
       "3  658a306e99b40f103b63ccf8 2023-12-26 01:46:22+00:00   \n",
       "4  653cf5d6a225ea102b7ecdc2 2023-10-28 11:51:50+00:00   \n",
       "\n",
       "                 BIRTH_DATE STATE LANGUAGE  GENDER  \n",
       "0 2000-08-11 00:00:00+00:00    CA   es-419  female  \n",
       "1 2001-09-24 04:00:00+00:00    PA       en  female  \n",
       "2 1994-10-28 00:00:00+00:00    FL   es-419  female  \n",
       "3                       NaT    NC       en     NaN  \n",
       "4 1972-03-19 00:00:00+00:00    PA       en  female  "
      ]
     },
     "execution_count": 24,
     "metadata": {},
     "output_type": "execute_result"
    }
   ],
   "source": [
    "users.head(5)"
   ]
  },
  {
   "cell_type": "markdown",
   "id": "557b7ca8",
   "metadata": {},
   "source": [
    "## 1) Explore the data"
   ]
  },
  {
   "cell_type": "markdown",
   "id": "c462d184",
   "metadata": {},
   "source": [
    "### 1.1.  Are there any data quality issues present?\n",
    "##### Just looking at the data types, I can see that dates are currently stored as objects instead of datetime.  Final quantity and final sale fields on the transactions table are also stored as objects instead of int or float; (in fact some of the final quantity values are stored as the string 'zero' instead of 0).  Barcode column in the transactions table is also stored as float and should probably be object depending on what we need to do with the field.  Some of the birth dates on the Users table has a specific time, this could be erroneous as well. \n",
    "\n",
    "##### Some items are not associated with any brand or manufacturer, which seems strange as almost every product should have a brand.\n",
    "\n",
    "##### Looking at the distribution of final quantity on the transactions table, one would expect whole numbers for quantities, however there are decimals; which could be a data quality issue.  Additionally, most quantities fall below 5 but the max is 276, which might not necessarily be erroneous but might need further investigation.  The same thing applies to final sale, where most values fall under 10 with a max of 462.82, which again may require validating."
   ]
  },
  {
   "cell_type": "markdown",
   "id": "99b37b4c",
   "metadata": {},
   "source": [
    "### 1.2. Are there any fields that are challenging to understand?\n",
    "#####  As mentioned earlier, on the transactions table, final quantity can be 'zero' yet the final sale for those records will be a nonzero price.  Additionally, quantities can be partial. These fields are not readily understandable at first glance.  Scan date is also not a straightforward field to comprehend from just the name.  Sometimes it comes after the purchase date, other times it's the same date."
   ]
  },
  {
   "cell_type": "code",
   "execution_count": null,
   "id": "d6424334",
   "metadata": {},
   "outputs": [],
   "source": []
  },
  {
   "cell_type": "markdown",
   "id": "384dbe3b",
   "metadata": {},
   "source": [
    "## 2) SQL queries"
   ]
  },
  {
   "cell_type": "markdown",
   "id": "69d44924",
   "metadata": {},
   "source": [
    "### 2.1. What are the top 5 brands by receipts scanned among users 21 and over?"
   ]
  },
  {
   "cell_type": "code",
   "execution_count": 26,
   "id": "7f1dbde2",
   "metadata": {},
   "outputs": [
    {
     "data": {
      "text/html": [
       "<div>\n",
       "<style scoped>\n",
       "    .dataframe tbody tr th:only-of-type {\n",
       "        vertical-align: middle;\n",
       "    }\n",
       "\n",
       "    .dataframe tbody tr th {\n",
       "        vertical-align: top;\n",
       "    }\n",
       "\n",
       "    .dataframe thead th {\n",
       "        text-align: right;\n",
       "    }\n",
       "</style>\n",
       "<table border=\"1\" class=\"dataframe\">\n",
       "  <thead>\n",
       "    <tr style=\"text-align: right;\">\n",
       "      <th></th>\n",
       "      <th>BRAND</th>\n",
       "      <th>receipt_count</th>\n",
       "    </tr>\n",
       "  </thead>\n",
       "  <tbody>\n",
       "    <tr>\n",
       "      <th>0</th>\n",
       "      <td>NERDS CANDY</td>\n",
       "      <td>6</td>\n",
       "    </tr>\n",
       "    <tr>\n",
       "      <th>1</th>\n",
       "      <td>DOVE</td>\n",
       "      <td>6</td>\n",
       "    </tr>\n",
       "    <tr>\n",
       "      <th>2</th>\n",
       "      <td>None</td>\n",
       "      <td>6</td>\n",
       "    </tr>\n",
       "    <tr>\n",
       "      <th>3</th>\n",
       "      <td>TRIDENT</td>\n",
       "      <td>4</td>\n",
       "    </tr>\n",
       "    <tr>\n",
       "      <th>4</th>\n",
       "      <td>SOUR PATCH KIDS</td>\n",
       "      <td>4</td>\n",
       "    </tr>\n",
       "    <tr>\n",
       "      <th>5</th>\n",
       "      <td>MEIJER</td>\n",
       "      <td>4</td>\n",
       "    </tr>\n",
       "    <tr>\n",
       "      <th>6</th>\n",
       "      <td>HERSHEY'S</td>\n",
       "      <td>4</td>\n",
       "    </tr>\n",
       "    <tr>\n",
       "      <th>7</th>\n",
       "      <td>GREAT VALUE</td>\n",
       "      <td>4</td>\n",
       "    </tr>\n",
       "    <tr>\n",
       "      <th>8</th>\n",
       "      <td>COCA-COLA</td>\n",
       "      <td>4</td>\n",
       "    </tr>\n",
       "    <tr>\n",
       "      <th>9</th>\n",
       "      <td>UTZ</td>\n",
       "      <td>2</td>\n",
       "    </tr>\n",
       "  </tbody>\n",
       "</table>\n",
       "</div>"
      ],
      "text/plain": [
       "             BRAND  receipt_count\n",
       "0      NERDS CANDY              6\n",
       "1             DOVE              6\n",
       "2             None              6\n",
       "3          TRIDENT              4\n",
       "4  SOUR PATCH KIDS              4\n",
       "5           MEIJER              4\n",
       "6        HERSHEY'S              4\n",
       "7      GREAT VALUE              4\n",
       "8        COCA-COLA              4\n",
       "9              UTZ              2"
      ]
     },
     "execution_count": 26,
     "metadata": {},
     "output_type": "execute_result"
    }
   ],
   "source": [
    "#CTE outputs transactions from users who were 21 and over by the receipt scan date (date diff between birth date and scan date)\n",
    "#Query joins output back to products table to get brand and a count of receipts\n",
    "#Using a group by, ordering by most to least receipts and then a limit to see top brands\n",
    "ps.sqldf(\"with adult_trans as (select u.id, u.birth_date, t.scan_date, \\\n",
    "                           (julianday(t.scan_date) - julianday(u.birth_date))/365 age, \\\n",
    "                           t.receipt_id, t.barcode \\\n",
    "                           from users u join transactions t on u.id=t.user_id \\\n",
    "                           where (julianday(t.scan_date) - julianday(u.birth_date))/365 >= 21) \\\n",
    "          select brand, count(at.receipt_id) receipt_count\\\n",
    "          from adult_trans at join products p on p.barcode=at.barcode \\\n",
    "          group by 1 \\\n",
    "          order by 2 desc limit 10\")"
   ]
  },
  {
   "cell_type": "markdown",
   "id": "bc33b62c",
   "metadata": {},
   "source": [
    "##### Since there seems to be ties in the number of receipts and null brand, I decided to look at the top 10 rows"
   ]
  },
  {
   "cell_type": "markdown",
   "id": "3190f05c",
   "metadata": {},
   "source": [
    "### 2.2. What are the top 5 brands by sales among users that have had their account for at least six months?"
   ]
  },
  {
   "cell_type": "code",
   "execution_count": 27,
   "id": "c3dad086",
   "metadata": {},
   "outputs": [
    {
     "data": {
      "text/html": [
       "<div>\n",
       "<style scoped>\n",
       "    .dataframe tbody tr th:only-of-type {\n",
       "        vertical-align: middle;\n",
       "    }\n",
       "\n",
       "    .dataframe tbody tr th {\n",
       "        vertical-align: top;\n",
       "    }\n",
       "\n",
       "    .dataframe thead th {\n",
       "        text-align: right;\n",
       "    }\n",
       "</style>\n",
       "<table border=\"1\" class=\"dataframe\">\n",
       "  <thead>\n",
       "    <tr style=\"text-align: right;\">\n",
       "      <th></th>\n",
       "      <th>BRAND</th>\n",
       "      <th>total_sales</th>\n",
       "    </tr>\n",
       "  </thead>\n",
       "  <tbody>\n",
       "    <tr>\n",
       "      <th>0</th>\n",
       "      <td>CVS</td>\n",
       "      <td>72.00</td>\n",
       "    </tr>\n",
       "    <tr>\n",
       "      <th>1</th>\n",
       "      <td>DOVE</td>\n",
       "      <td>30.91</td>\n",
       "    </tr>\n",
       "    <tr>\n",
       "      <th>2</th>\n",
       "      <td>TRESEMMÉ</td>\n",
       "      <td>29.16</td>\n",
       "    </tr>\n",
       "    <tr>\n",
       "      <th>3</th>\n",
       "      <td>TRIDENT</td>\n",
       "      <td>23.36</td>\n",
       "    </tr>\n",
       "    <tr>\n",
       "      <th>4</th>\n",
       "      <td>COORS LIGHT</td>\n",
       "      <td>17.48</td>\n",
       "    </tr>\n",
       "  </tbody>\n",
       "</table>\n",
       "</div>"
      ],
      "text/plain": [
       "         BRAND  total_sales\n",
       "0          CVS        72.00\n",
       "1         DOVE        30.91\n",
       "2     TRESEMMÉ        29.16\n",
       "3      TRIDENT        23.36\n",
       "4  COORS LIGHT        17.48"
      ]
     },
     "execution_count": 27,
     "metadata": {},
     "output_type": "execute_result"
    }
   ],
   "source": [
    "#CTE outputs transactions from users whose accounts were atleast 6 months old\n",
    "#Query joins output back to products table to get brand and a sum of total sales (assuming sales is final quantity*final sale)\n",
    "#Using a group by, ordering by most to least sales and then a limit of 5 shows us the top 5 brands\n",
    "ps.sqldf(\"with sales as (select u.id, u.created_date, t.purchase_date, \\\n",
    "                           (julianday(t.purchase_date) - julianday(u.created_date))/365 account_age, \\\n",
    "                           t.receipt_id, t.barcode, t.final_quantity_float, t.final_sale_float \\\n",
    "                           from users u join transactions t on u.id=t.user_id \\\n",
    "                           where (julianday(t.purchase_date) - julianday(u.created_date))/365 >= 0.5) \\\n",
    "          select p.brand, sum(s.final_sale_float*s.final_quantity_float) total_sales \\\n",
    "          from sales s join products p on p.barcode=s.barcode \\\n",
    "          group by 1 order by 2 desc limit 5\")"
   ]
  },
  {
   "cell_type": "markdown",
   "id": "6d5d8091",
   "metadata": {},
   "source": [
    "### 2.3. Who are Fetch’s power users?"
   ]
  },
  {
   "cell_type": "markdown",
   "id": "06cc9c86",
   "metadata": {},
   "source": [
    "#### To define 'power users', I am making the assumption that the total number of receipts/transactions of each user to be the metric we are going by.  So I am looking for the users with the most receipts."
   ]
  },
  {
   "cell_type": "code",
   "execution_count": 28,
   "id": "99ed0151",
   "metadata": {},
   "outputs": [
    {
     "data": {
      "text/html": [
       "<div>\n",
       "<style scoped>\n",
       "    .dataframe tbody tr th:only-of-type {\n",
       "        vertical-align: middle;\n",
       "    }\n",
       "\n",
       "    .dataframe tbody tr th {\n",
       "        vertical-align: top;\n",
       "    }\n",
       "\n",
       "    .dataframe thead th {\n",
       "        text-align: right;\n",
       "    }\n",
       "</style>\n",
       "<table border=\"1\" class=\"dataframe\">\n",
       "  <thead>\n",
       "    <tr style=\"text-align: right;\">\n",
       "      <th></th>\n",
       "      <th>USER_ID</th>\n",
       "      <th>receipts</th>\n",
       "    </tr>\n",
       "  </thead>\n",
       "  <tbody>\n",
       "    <tr>\n",
       "      <th>0</th>\n",
       "      <td>64e62de5ca929250373e6cf5</td>\n",
       "      <td>10</td>\n",
       "    </tr>\n",
       "    <tr>\n",
       "      <th>1</th>\n",
       "      <td>62925c1be942f00613f7365e</td>\n",
       "      <td>10</td>\n",
       "    </tr>\n",
       "    <tr>\n",
       "      <th>2</th>\n",
       "      <td>64063c8880552327897186a5</td>\n",
       "      <td>9</td>\n",
       "    </tr>\n",
       "    <tr>\n",
       "      <th>3</th>\n",
       "      <td>6327a07aca87b39d76e03864</td>\n",
       "      <td>7</td>\n",
       "    </tr>\n",
       "    <tr>\n",
       "      <th>4</th>\n",
       "      <td>624dca0770c07012cd5e6c03</td>\n",
       "      <td>7</td>\n",
       "    </tr>\n",
       "  </tbody>\n",
       "</table>\n",
       "</div>"
      ],
      "text/plain": [
       "                    USER_ID  receipts\n",
       "0  64e62de5ca929250373e6cf5        10\n",
       "1  62925c1be942f00613f7365e        10\n",
       "2  64063c8880552327897186a5         9\n",
       "3  6327a07aca87b39d76e03864         7\n",
       "4  624dca0770c07012cd5e6c03         7"
      ]
     },
     "execution_count": 28,
     "metadata": {},
     "output_type": "execute_result"
    }
   ],
   "source": [
    "#first, I take a look at the highest possible number of receipts by user\n",
    "user_receipts = ps.sqldf(\"select user_id, count(distinct receipt_id) receipts \\\n",
    "          from transactions \\\n",
    "          group by 1 order by 2 desc\")\n",
    "\n",
    "user_receipts.head(5)"
   ]
  },
  {
   "cell_type": "code",
   "execution_count": 29,
   "id": "256a2dcd",
   "metadata": {},
   "outputs": [
    {
     "data": {
      "image/png": "[encoded data removed]",
      "text/plain": [
       "<Figure size 1440x360 with 1 Axes>"
      ]
     },
     "metadata": {
      "needs_background": "light"
     },
     "output_type": "display_data"
    }
   ],
   "source": [
    "#to define a cut-off for what constitutes as 'more receipts than average' I take a look at the distribution of \n",
    "# number of receipts.  It looks like we can say over 3 transactions for a user can be considered a 'power user'\n",
    "plt.figure(figsize=(20, 5))\n",
    "user_receipts.receipts.hist()\n",
    "plt.title('Histogram of User Receipts')\n",
    "plt.xlabel('Number of Total Receipts')\n",
    "plt.ylabel('Number of Users')\n",
    "plt.xticks(ticks=[0,1,2,3,4,5,6,7,8,9,10])\n",
    "plt.show()"
   ]
  },
  {
   "cell_type": "code",
   "execution_count": 30,
   "id": "f9fdd4d4",
   "metadata": {},
   "outputs": [
    {
     "data": {
      "text/html": [
       "<div>\n",
       "<style scoped>\n",
       "    .dataframe tbody tr th:only-of-type {\n",
       "        vertical-align: middle;\n",
       "    }\n",
       "\n",
       "    .dataframe tbody tr th {\n",
       "        vertical-align: top;\n",
       "    }\n",
       "\n",
       "    .dataframe thead th {\n",
       "        text-align: right;\n",
       "    }\n",
       "</style>\n",
       "<table border=\"1\" class=\"dataframe\">\n",
       "  <thead>\n",
       "    <tr style=\"text-align: right;\">\n",
       "      <th></th>\n",
       "      <th>ID</th>\n",
       "      <th>CREATED_DATE</th>\n",
       "      <th>BIRTH_DATE</th>\n",
       "      <th>STATE</th>\n",
       "      <th>LANGUAGE</th>\n",
       "      <th>GENDER</th>\n",
       "    </tr>\n",
       "  </thead>\n",
       "  <tbody>\n",
       "    <tr>\n",
       "      <th>0</th>\n",
       "      <td>610a8541ca1fab5b417b5d33</td>\n",
       "      <td>2021-08-04 12:17:05.000000</td>\n",
       "      <td>1977-01-12 00:00:00.000000</td>\n",
       "      <td>NY</td>\n",
       "      <td>en</td>\n",
       "      <td>male</td>\n",
       "    </tr>\n",
       "    <tr>\n",
       "      <th>1</th>\n",
       "      <td>62ffec490d9dbaff18c0a999</td>\n",
       "      <td>2022-08-19 20:02:17.000000</td>\n",
       "      <td>1951-12-24 05:00:00.000000</td>\n",
       "      <td>NY</td>\n",
       "      <td>en</td>\n",
       "      <td>female</td>\n",
       "    </tr>\n",
       "    <tr>\n",
       "      <th>2</th>\n",
       "      <td>62c09104baa38d1a1f6c260e</td>\n",
       "      <td>2022-07-02 18:40:04.000000</td>\n",
       "      <td>1978-03-31 00:00:00.000000</td>\n",
       "      <td>PA</td>\n",
       "      <td>en</td>\n",
       "      <td>female</td>\n",
       "    </tr>\n",
       "    <tr>\n",
       "      <th>3</th>\n",
       "      <td>61a58ac49c135b462ccddd1c</td>\n",
       "      <td>2021-11-30 02:21:56.000000</td>\n",
       "      <td>1996-05-20 00:00:00.000000</td>\n",
       "      <td>TN</td>\n",
       "      <td>en</td>\n",
       "      <td>female</td>\n",
       "    </tr>\n",
       "    <tr>\n",
       "      <th>4</th>\n",
       "      <td>6528a0a388a3a884364d94dc</td>\n",
       "      <td>2023-10-13 01:42:59.000000</td>\n",
       "      <td>1988-06-30 00:00:00.000000</td>\n",
       "      <td>WV</td>\n",
       "      <td>en</td>\n",
       "      <td>female</td>\n",
       "    </tr>\n",
       "    <tr>\n",
       "      <th>5</th>\n",
       "      <td>5c366bf06d9819129dfa1118</td>\n",
       "      <td>2019-01-09 21:47:28.000000</td>\n",
       "      <td>1989-04-21 04:00:00.000000</td>\n",
       "      <td>NC</td>\n",
       "      <td>en</td>\n",
       "      <td>female</td>\n",
       "    </tr>\n",
       "  </tbody>\n",
       "</table>\n",
       "</div>"
      ],
      "text/plain": [
       "                         ID                CREATED_DATE  \\\n",
       "0  610a8541ca1fab5b417b5d33  2021-08-04 12:17:05.000000   \n",
       "1  62ffec490d9dbaff18c0a999  2022-08-19 20:02:17.000000   \n",
       "2  62c09104baa38d1a1f6c260e  2022-07-02 18:40:04.000000   \n",
       "3  61a58ac49c135b462ccddd1c  2021-11-30 02:21:56.000000   \n",
       "4  6528a0a388a3a884364d94dc  2023-10-13 01:42:59.000000   \n",
       "5  5c366bf06d9819129dfa1118  2019-01-09 21:47:28.000000   \n",
       "\n",
       "                   BIRTH_DATE STATE LANGUAGE  GENDER  \n",
       "0  1977-01-12 00:00:00.000000    NY       en    male  \n",
       "1  1951-12-24 05:00:00.000000    NY       en  female  \n",
       "2  1978-03-31 00:00:00.000000    PA       en  female  \n",
       "3  1996-05-20 00:00:00.000000    TN       en  female  \n",
       "4  1988-06-30 00:00:00.000000    WV       en  female  \n",
       "5  1989-04-21 04:00:00.000000    NC       en  female  "
      ]
     },
     "execution_count": 30,
     "metadata": {},
     "output_type": "execute_result"
    }
   ],
   "source": [
    "#CTE joins users and transactions tables to find users with 3+ receipts\n",
    "#query joins output back to users table to get other attributes\n",
    "\n",
    "ps.sqldf(\"with power_users as (select user_id, count(distinct receipt_id) receipts \\\n",
    "          from transactions \\\n",
    "          group by 1 \\\n",
    "          having receipts >= 3) \\\n",
    "          select u.* from power_users pu join users u on u.id=pu.user_id\")"
   ]
  },
  {
   "cell_type": "markdown",
   "id": "33b6ad43",
   "metadata": {},
   "source": [
    "#### Unfortunately, only 5 of the user IDs exist on the users table.  Either user records were removed from this table after users deactivated their accounts or there is a data quality issue.  We have this list of 5 'power users', so can can stop here or change the threshold for the definition of 'power user' and get some actual user demographics utilizing some of the fields in the users table.  We can already see that the power users right now look to be English-speaking women."
   ]
  },
  {
   "cell_type": "code",
   "execution_count": 31,
   "id": "4c4a679b",
   "metadata": {},
   "outputs": [
    {
     "data": {
      "text/html": [
       "<div>\n",
       "<style scoped>\n",
       "    .dataframe tbody tr th:only-of-type {\n",
       "        vertical-align: middle;\n",
       "    }\n",
       "\n",
       "    .dataframe tbody tr th {\n",
       "        vertical-align: top;\n",
       "    }\n",
       "\n",
       "    .dataframe thead th {\n",
       "        text-align: right;\n",
       "    }\n",
       "</style>\n",
       "<table border=\"1\" class=\"dataframe\">\n",
       "  <thead>\n",
       "    <tr style=\"text-align: right;\">\n",
       "      <th></th>\n",
       "      <th>LANGUAGE</th>\n",
       "      <th>GENDER</th>\n",
       "      <th>age_group</th>\n",
       "      <th>user_count</th>\n",
       "    </tr>\n",
       "  </thead>\n",
       "  <tbody>\n",
       "    <tr>\n",
       "      <th>0</th>\n",
       "      <td>en</td>\n",
       "      <td>female</td>\n",
       "      <td>25 - 45</td>\n",
       "      <td>11</td>\n",
       "    </tr>\n",
       "    <tr>\n",
       "      <th>1</th>\n",
       "      <td>en</td>\n",
       "      <td>female</td>\n",
       "      <td>60+</td>\n",
       "      <td>6</td>\n",
       "    </tr>\n",
       "    <tr>\n",
       "      <th>2</th>\n",
       "      <td>en</td>\n",
       "      <td>female</td>\n",
       "      <td>45 - 60</td>\n",
       "      <td>5</td>\n",
       "    </tr>\n",
       "    <tr>\n",
       "      <th>3</th>\n",
       "      <td>en</td>\n",
       "      <td>male</td>\n",
       "      <td>25 - 45</td>\n",
       "      <td>2</td>\n",
       "    </tr>\n",
       "    <tr>\n",
       "      <th>4</th>\n",
       "      <td>en</td>\n",
       "      <td>male</td>\n",
       "      <td>60+</td>\n",
       "      <td>2</td>\n",
       "    </tr>\n",
       "    <tr>\n",
       "      <th>5</th>\n",
       "      <td>es-419</td>\n",
       "      <td>female</td>\n",
       "      <td>25 - 45</td>\n",
       "      <td>1</td>\n",
       "    </tr>\n",
       "    <tr>\n",
       "      <th>6</th>\n",
       "      <td>en</td>\n",
       "      <td>male</td>\n",
       "      <td>45 - 60</td>\n",
       "      <td>1</td>\n",
       "    </tr>\n",
       "  </tbody>\n",
       "</table>\n",
       "</div>"
      ],
      "text/plain": [
       "  LANGUAGE  GENDER age_group  user_count\n",
       "0       en  female   25 - 45          11\n",
       "1       en  female       60+           6\n",
       "2       en  female   45 - 60           5\n",
       "3       en    male   25 - 45           2\n",
       "4       en    male       60+           2\n",
       "5   es-419  female   25 - 45           1\n",
       "6       en    male   45 - 60           1"
      ]
     },
     "execution_count": 31,
     "metadata": {},
     "output_type": "execute_result"
    }
   ],
   "source": [
    "#Changing the threshold of number of receipts for power users to 2 and \n",
    "#adding a case statement to the query to break down the ages by groups\n",
    "\n",
    "poweruser_demos = ps.sqldf(\"with power_users as (select user_id, count(distinct receipt_id) receipts \\\n",
    "          from transactions \\\n",
    "          group by 1 \\\n",
    "          having receipts >= 2) \\\n",
    "          select u.language, u.gender, \\\n",
    "             CASE when '2025-03-15' - u.birth_date <= 25 then '25 and under' \\\n",
    "                  when '2025-03-15' - u.birth_date > 25 and '2025-03-15' - u.birth_date <= 45 then '25 - 45' \\\n",
    "                  when '2025-03-15' - u.birth_date > 45 and '2025-03-15' - u.birth_date <= 60 then '45 - 60' \\\n",
    "                  else '60+' end as age_group, \\\n",
    "            count(u.id) user_count \\\n",
    "         from power_users pu join users u on u.id=pu.user_id \\\n",
    "         group by 1,2,3 order by 4 desc,3\")\n",
    "\n",
    "poweruser_demos"
   ]
  },
  {
   "cell_type": "code",
   "execution_count": 32,
   "id": "7564d16b",
   "metadata": {},
   "outputs": [
    {
     "data": {
      "text/html": [
       "<div>\n",
       "<style scoped>\n",
       "    .dataframe tbody tr th:only-of-type {\n",
       "        vertical-align: middle;\n",
       "    }\n",
       "\n",
       "    .dataframe tbody tr th {\n",
       "        vertical-align: top;\n",
       "    }\n",
       "\n",
       "    .dataframe thead th {\n",
       "        text-align: right;\n",
       "    }\n",
       "</style>\n",
       "<table border=\"1\" class=\"dataframe\">\n",
       "  <thead>\n",
       "    <tr style=\"text-align: right;\">\n",
       "      <th>age_group</th>\n",
       "      <th>25 - 45</th>\n",
       "      <th>45 - 60</th>\n",
       "      <th>60+</th>\n",
       "    </tr>\n",
       "    <tr>\n",
       "      <th>GENDER</th>\n",
       "      <th></th>\n",
       "      <th></th>\n",
       "      <th></th>\n",
       "    </tr>\n",
       "  </thead>\n",
       "  <tbody>\n",
       "    <tr>\n",
       "      <th>female</th>\n",
       "      <td>12</td>\n",
       "      <td>5</td>\n",
       "      <td>6</td>\n",
       "    </tr>\n",
       "    <tr>\n",
       "      <th>male</th>\n",
       "      <td>2</td>\n",
       "      <td>1</td>\n",
       "      <td>2</td>\n",
       "    </tr>\n",
       "  </tbody>\n",
       "</table>\n",
       "</div>"
      ],
      "text/plain": [
       "age_group  25 - 45  45 - 60  60+\n",
       "GENDER                          \n",
       "female          12        5    6\n",
       "male             2        1    2"
      ]
     },
     "execution_count": 32,
     "metadata": {},
     "output_type": "execute_result"
    }
   ],
   "source": [
    "#creating a group by so we can better see the breakdown by gender and age groups visually\n",
    "demos_agg = poweruser_demos.groupby(['GENDER', 'age_group'])['user_count'].sum().unstack().fillna(0)\n",
    "demos_agg"
   ]
  },
  {
   "cell_type": "code",
   "execution_count": 33,
   "id": "c879d7c4",
   "metadata": {},
   "outputs": [
    {
     "data": {
      "text/plain": [
       "<Figure size 576x432 with 0 Axes>"
      ]
     },
     "metadata": {},
     "output_type": "display_data"
    },
    {
     "data": {
      "image/png": "[encoded data removed]",
      "text/plain": [
       "<Figure size 432x288 with 1 Axes>"
      ]
     },
     "metadata": {
      "needs_background": "light"
     },
     "output_type": "display_data"
    }
   ],
   "source": [
    "#plotting stacked bar chart\n",
    "plt.figure(figsize=(8, 6))\n",
    "demos_agg.plot(stacked=True,kind='bar')\n",
    "plt.title('User Count by Age and Gender')\n",
    "plt.xlabel('Gender')\n",
    "plt.ylabel('User Count')\n",
    "plt.show()"
   ]
  },
  {
   "cell_type": "markdown",
   "id": "bdd62387",
   "metadata": {},
   "source": [
    "#### Women are definitely power users, specifically 25-45 year old English-speaking women."
   ]
  },
  {
   "cell_type": "markdown",
   "id": "5a1a7fcf",
   "metadata": {},
   "source": [
    "## 3. Communicate with stakeholders"
   ]
  },
  {
   "cell_type": "markdown",
   "id": "7198d6ef",
   "metadata": {},
   "source": [
    "Hi [stakeholder(s)],  \n",
    "    Just wanted to drop a note to better understand our top brands.  Taking a quick look at our data:\n",
    "   #### -  In terms of receipts scanned by 21+ users, the top brands were Nerds Candy and Dove with 6 total receipts and Trident, Sour Patch Kids, Meijer, Hershey's, Great Value and Coca-Cola with 4 receipts\n",
    "   #### - In terms of sales among users with accounts older than 6 months, the top brands were: CVS, Dove, Tresemme, Trident, and Coors Light\n",
    "   Interestingly, when looking at top-level demographics of our userbase, the power users tend to be English-speaking women aged 25-45.  However, this is in terms of number of receipts/transactions as I am trying to understand some of the data--namely, the 'final sale' and 'final quantity' columns.  I notice some of the final quantities were 'zero' yet there is a final sale price.  Not sure if these are erroneous or if there is some business logic behind these data points.  Additionally, some of the items also have no brand or manufacturer and a large number of users from our transactions data do not exist in our users records.  If anyone can shed some light here or point me in the right direction, would greatly appreciate it.  Once I get more clarification, I can definitely provide more in-depth insights.\n",
    "   \n",
    "Thanks,\n",
    "\n",
    "Lisa"
   ]
  }
 ],
 "metadata": {
  "kernelspec": {
   "display_name": "Python 3 (ipykernel)",
   "language": "python",
   "name": "python3"
  },
  "language_info": {
   "codemirror_mode": {
    "name": "ipython",
    "version": 3
   },
   "file_extension": ".py",
   "mimetype": "text/x-python",
   "name": "python",
   "nbconvert_exporter": "python",
   "pygments_lexer": "ipython3",
   "version": "3.9.7"
  }
 },
 "nbformat": 4,
 "nbformat_minor": 5
}
